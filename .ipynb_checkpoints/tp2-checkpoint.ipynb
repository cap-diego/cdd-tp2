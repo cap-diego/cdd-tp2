{
 "cells": [
  {
   "cell_type": "code",
   "execution_count": 97,
   "id": "a03ad963-1a8b-49a2-8672-e9076824c9e3",
   "metadata": {},
   "outputs": [],
   "source": [
    "import matplotlib.pyplot as plt\n",
    "%matplotlib inline\n",
    "import numpy as np\n",
    "import pandas as  pd"
   ]
  },
  {
   "cell_type": "code",
   "execution_count": 99,
   "id": "d3093a70-9d0a-4c07-affe-968cf9a816db",
   "metadata": {},
   "outputs": [],
   "source": [
    "df = pd.read_csv(\"GSAF5_src.csv\", delimiter=\";\")\n",
    "df_c = pd.read_csv(\"GSAF5_clean.csv\")\n",
    "# Trim spaces at both ends\n",
    "df.columns = df.columns.str.strip()"
   ]
  },
  {
   "cell_type": "code",
   "execution_count": 100,
   "id": "372bd448-d824-4b15-9025-d529b638d9ad",
   "metadata": {},
   "outputs": [],
   "source": [
    "#df.columns.values.tolist()"
   ]
  },
  {
   "cell_type": "code",
   "execution_count": 101,
   "id": "dca81b38-4944-4efe-b1d2-c388278df452",
   "metadata": {},
   "outputs": [],
   "source": [
    "valid_columns = [\"Case_Number\",\"Country\",\"Date\",\"Year\",\"Type\",\"Area\",\"Location\",\"Activity\",\"Name\",\"Sex\",\"Age\",\"Injury\",\"Fatal_(Y/N)\",\"Time\",\"Species\",\"Investigator_or_Source\"]"
   ]
  },
  {
   "cell_type": "code",
   "execution_count": 102,
   "id": "dc123f73-c9fb-40e0-8953-3d575dbbebc7",
   "metadata": {},
   "outputs": [],
   "source": [
    "# Add underscore between in column name\n",
    "df.columns = df.columns.str.replace(' ','_')\n",
    "df_c.columns = df_c.columns.str.replace(' ','_')"
   ]
  },
  {
   "cell_type": "code",
   "execution_count": 103,
   "id": "b2caaf4e-b07a-41b8-b636-4223f691865f",
   "metadata": {},
   "outputs": [],
   "source": [
    "# Remove unnecesary columns\n",
    "df = df[valid_columns]\n",
    "df_c = df_c[valid_columns]"
   ]
  },
  {
   "cell_type": "code",
   "execution_count": 104,
   "id": "6b044b5f-a2a2-472a-8a2a-3c18228220a3",
   "metadata": {},
   "outputs": [],
   "source": [
    "# Clean rows with NaN values. \n",
    "df.dropna(how='all', inplace=True)\n",
    "df_c = df_c[df_c[\"Case_Number\"] != \"0\"]\n",
    "df_c = df_c[df_c[\"Case_Number\"] != \"xx\"]"
   ]
  },
  {
   "cell_type": "code",
   "execution_count": null,
   "id": "ee92dc26-7ca0-4efe-b4c5-e21be7d3d13d",
   "metadata": {},
   "outputs": [],
   "source": []
  },
  {
   "cell_type": "code",
   "execution_count": null,
   "id": "a055d837-4f2b-4aee-8d86-f53e1e6ce360",
   "metadata": {},
   "outputs": [],
   "source": []
  },
  {
   "cell_type": "markdown",
   "id": "2678cc0c-5dd8-4bc2-88fe-c2dccb4d590d",
   "metadata": {},
   "source": [
    "# Ataques por pais"
   ]
  },
  {
   "cell_type": "code",
   "execution_count": 124,
   "id": "4f10caeb-2c0b-4b6c-868a-46a791c6b8bc",
   "metadata": {},
   "outputs": [],
   "source": [
    "df_atck_by_country = df_c.groupby('Country')[\"Country\"].count().reset_index(name=\"count\")\n",
    "df_atck_by_country.sort_values(by=['count'], inplace=True)"
   ]
  },
  {
   "cell_type": "code",
   "execution_count": 125,
   "id": "88da70ef-b199-4b8a-bdce-979e51625807",
   "metadata": {},
   "outputs": [
    {
     "data": {
      "text/html": [
       "<div>\n",
       "<style scoped>\n",
       "    .dataframe tbody tr th:only-of-type {\n",
       "        vertical-align: middle;\n",
       "    }\n",
       "\n",
       "    .dataframe tbody tr th {\n",
       "        vertical-align: top;\n",
       "    }\n",
       "\n",
       "    .dataframe thead th {\n",
       "        text-align: right;\n",
       "    }\n",
       "</style>\n",
       "<table border=\"1\" class=\"dataframe\">\n",
       "  <thead>\n",
       "    <tr style=\"text-align: right;\">\n",
       "      <th></th>\n",
       "      <th>Country</th>\n",
       "      <th>count</th>\n",
       "    </tr>\n",
       "  </thead>\n",
       "  <tbody>\n",
       "    <tr>\n",
       "      <th>0</th>\n",
       "      <td>ADMIRALTY ISLANDS</td>\n",
       "      <td>1</td>\n",
       "    </tr>\n",
       "    <tr>\n",
       "      <th>105</th>\n",
       "      <td>MID-PACIFC OCEAN</td>\n",
       "      <td>1</td>\n",
       "    </tr>\n",
       "    <tr>\n",
       "      <th>103</th>\n",
       "      <td>MAYOTTE</td>\n",
       "      <td>1</td>\n",
       "    </tr>\n",
       "    <tr>\n",
       "      <th>94</th>\n",
       "      <td>Kingdom of Africa</td>\n",
       "      <td>1</td>\n",
       "    </tr>\n",
       "    <tr>\n",
       "      <th>93</th>\n",
       "      <td>KOREA</td>\n",
       "      <td>1</td>\n",
       "    </tr>\n",
       "    <tr>\n",
       "      <th>...</th>\n",
       "      <td>...</td>\n",
       "      <td>...</td>\n",
       "    </tr>\n",
       "    <tr>\n",
       "      <th>138</th>\n",
       "      <td>Papua New Guinea</td>\n",
       "      <td>136</td>\n",
       "    </tr>\n",
       "    <tr>\n",
       "      <th>126</th>\n",
       "      <td>New Zealand</td>\n",
       "      <td>139</td>\n",
       "    </tr>\n",
       "    <tr>\n",
       "      <th>170</th>\n",
       "      <td>South Africa</td>\n",
       "      <td>589</td>\n",
       "    </tr>\n",
       "    <tr>\n",
       "      <th>12</th>\n",
       "      <td>Australia</td>\n",
       "      <td>1429</td>\n",
       "    </tr>\n",
       "    <tr>\n",
       "      <th>189</th>\n",
       "      <td>United States of America</td>\n",
       "      <td>2428</td>\n",
       "    </tr>\n",
       "  </tbody>\n",
       "</table>\n",
       "<p>196 rows × 2 columns</p>\n",
       "</div>"
      ],
      "text/plain": [
       "                      Country  count\n",
       "0           ADMIRALTY ISLANDS      1\n",
       "105          MID-PACIFC OCEAN      1\n",
       "103                   MAYOTTE      1\n",
       "94          Kingdom of Africa      1\n",
       "93                      KOREA      1\n",
       "..                        ...    ...\n",
       "138          Papua New Guinea    136\n",
       "126               New Zealand    139\n",
       "170              South Africa    589\n",
       "12                  Australia   1429\n",
       "189  United States of America   2428\n",
       "\n",
       "[196 rows x 2 columns]"
      ]
     },
     "execution_count": 125,
     "metadata": {},
     "output_type": "execute_result"
    }
   ],
   "source": [
    "df_atck_by_country"
   ]
  },
  {
   "cell_type": "code",
   "execution_count": null,
   "id": "d5cc4597-65cb-4016-99e8-3084de1b8ec6",
   "metadata": {},
   "outputs": [],
   "source": []
  },
  {
   "cell_type": "markdown",
   "id": "63d326e8-d296-48b2-acb2-16a35e9e321d",
   "metadata": {},
   "source": [
    "# Ataques de paises vs otros"
   ]
  },
  {
   "cell_type": "code",
   "execution_count": 131,
   "id": "62111ea5-d50d-4ed2-ac94-fb47acd3291d",
   "metadata": {},
   "outputs": [],
   "source": [
    "df_atck = df_c.groupby('Country')[\"Country\"].count().reset_index(name=\"count\")\n",
    "df_atck_other = df_c[df_c['Country'] == \"OTHER\"]['Country'].count()\n",
    "df_atck_all = df_c[df_c['Country'] != \"OTHER\"]['Country'].count()\n",
    "df_atck_comparison = pd.DataFrame(data={\"Country\": [\"All\", \"OTHER\"], \"count\": [df_atck_all, df_atck_other]})"
   ]
  },
  {
   "cell_type": "code",
   "execution_count": 132,
   "id": "6addf073-5356-4fdf-a811-95f16dc171f4",
   "metadata": {},
   "outputs": [
    {
     "data": {
      "text/html": [
       "<div>\n",
       "<style scoped>\n",
       "    .dataframe tbody tr th:only-of-type {\n",
       "        vertical-align: middle;\n",
       "    }\n",
       "\n",
       "    .dataframe tbody tr th {\n",
       "        vertical-align: top;\n",
       "    }\n",
       "\n",
       "    .dataframe thead th {\n",
       "        text-align: right;\n",
       "    }\n",
       "</style>\n",
       "<table border=\"1\" class=\"dataframe\">\n",
       "  <thead>\n",
       "    <tr style=\"text-align: right;\">\n",
       "      <th></th>\n",
       "      <th>Country</th>\n",
       "      <th>count</th>\n",
       "    </tr>\n",
       "  </thead>\n",
       "  <tbody>\n",
       "    <tr>\n",
       "      <th>0</th>\n",
       "      <td>All</td>\n",
       "      <td>6649</td>\n",
       "    </tr>\n",
       "    <tr>\n",
       "      <th>1</th>\n",
       "      <td>OTHER</td>\n",
       "      <td>50</td>\n",
       "    </tr>\n",
       "  </tbody>\n",
       "</table>\n",
       "</div>"
      ],
      "text/plain": [
       "  Country  count\n",
       "0     All   6649\n",
       "1   OTHER     50"
      ]
     },
     "execution_count": 132,
     "metadata": {},
     "output_type": "execute_result"
    }
   ],
   "source": [
    "df_atck_comparison"
   ]
  },
  {
   "cell_type": "code",
   "execution_count": 128,
   "id": "cdecceb6-a3bc-469e-a730-3b9029a8d4ea",
   "metadata": {},
   "outputs": [],
   "source": []
  },
  {
   "cell_type": "code",
   "execution_count": null,
   "id": "caa69645-4c3f-4739-8e3f-cc411c9a8bee",
   "metadata": {},
   "outputs": [],
   "source": []
  },
  {
   "cell_type": "code",
   "execution_count": 134,
   "id": "8fca9b7e-a046-4826-a49b-967e8bbad855",
   "metadata": {},
   "outputs": [
    {
     "data": {
      "text/plain": [
       "Text(0.5, 1.0, 'Ataques de tiburones en paises reconocidos vs OTHER')"
      ]
     },
     "execution_count": 134,
     "metadata": {},
     "output_type": "execute_result"
    },
    {
     "data": {
      "image/png": "[encoded data removed]",
      "text/plain": [
       "<Figure size 432x288 with 1 Axes>"
      ]
     },
     "metadata": {
      "needs_background": "light"
     },
     "output_type": "display_data"
    }
   ],
   "source": [
    "plt.bar(_df[\"Country\"], _df[\"count\"])\n",
    "plt.xticks(rotation=70)\n",
    "plt.ylabel(\"Cantidad de ataques\")\n",
    "plt.title(\"Ataques de tiburones en paises reconocidos vs OTHER\")"
   ]
  },
  {
   "cell_type": "code",
   "execution_count": null,
   "id": "628862a3-2d2e-4353-ac8c-84fc63c919d5",
   "metadata": {},
   "outputs": [],
   "source": []
  },
  {
   "cell_type": "markdown",
   "id": "1f8d2cd0-041f-491b-95fe-320a5036d925",
   "metadata": {},
   "source": [
    "# Paises con más ataques"
   ]
  },
  {
   "cell_type": "code",
   "execution_count": null,
   "id": "d435b2aa-0a25-4a66-b5dc-a0891e439e09",
   "metadata": {},
   "outputs": [],
   "source": []
  },
  {
   "cell_type": "code",
   "execution_count": 135,
   "id": "561528c7-a83d-4a32-b225-f32da92ddcba",
   "metadata": {},
   "outputs": [],
   "source": [
    "#df_atck_by_country.nlargest(20, [\"count\"]).plot.bar()\n",
    "_df = df_atck_by_country.nlargest(8, [\"count\"])\n",
    "_df = _df[_df[\"Country\"] != \"OTHER\"]\n"
   ]
  },
  {
   "cell_type": "code",
   "execution_count": 136,
   "id": "2dae9e08-f22f-4b8e-9ac5-ecd3bf1f286e",
   "metadata": {},
   "outputs": [
    {
     "data": {
      "text/html": [
       "<div>\n",
       "<style scoped>\n",
       "    .dataframe tbody tr th:only-of-type {\n",
       "        vertical-align: middle;\n",
       "    }\n",
       "\n",
       "    .dataframe tbody tr th {\n",
       "        vertical-align: top;\n",
       "    }\n",
       "\n",
       "    .dataframe thead th {\n",
       "        text-align: right;\n",
       "    }\n",
       "</style>\n",
       "<table border=\"1\" class=\"dataframe\">\n",
       "  <thead>\n",
       "    <tr style=\"text-align: right;\">\n",
       "      <th></th>\n",
       "      <th>Country</th>\n",
       "      <th>count</th>\n",
       "    </tr>\n",
       "  </thead>\n",
       "  <tbody>\n",
       "    <tr>\n",
       "      <th>189</th>\n",
       "      <td>United States of America</td>\n",
       "      <td>2428</td>\n",
       "    </tr>\n",
       "    <tr>\n",
       "      <th>12</th>\n",
       "      <td>Australia</td>\n",
       "      <td>1429</td>\n",
       "    </tr>\n",
       "    <tr>\n",
       "      <th>170</th>\n",
       "      <td>South Africa</td>\n",
       "      <td>589</td>\n",
       "    </tr>\n",
       "    <tr>\n",
       "      <th>126</th>\n",
       "      <td>New Zealand</td>\n",
       "      <td>139</td>\n",
       "    </tr>\n",
       "    <tr>\n",
       "      <th>138</th>\n",
       "      <td>Papua New Guinea</td>\n",
       "      <td>136</td>\n",
       "    </tr>\n",
       "    <tr>\n",
       "      <th>13</th>\n",
       "      <td>BAHAMAS</td>\n",
       "      <td>126</td>\n",
       "    </tr>\n",
       "    <tr>\n",
       "      <th>26</th>\n",
       "      <td>Brazil</td>\n",
       "      <td>117</td>\n",
       "    </tr>\n",
       "    <tr>\n",
       "      <th>111</th>\n",
       "      <td>Mexico</td>\n",
       "      <td>96</td>\n",
       "    </tr>\n",
       "  </tbody>\n",
       "</table>\n",
       "</div>"
      ],
      "text/plain": [
       "                      Country  count\n",
       "189  United States of America   2428\n",
       "12                  Australia   1429\n",
       "170              South Africa    589\n",
       "126               New Zealand    139\n",
       "138          Papua New Guinea    136\n",
       "13                    BAHAMAS    126\n",
       "26                     Brazil    117\n",
       "111                    Mexico     96"
      ]
     },
     "execution_count": 136,
     "metadata": {},
     "output_type": "execute_result"
    }
   ],
   "source": [
    "_df"
   ]
  },
  {
   "cell_type": "code",
   "execution_count": 137,
   "id": "671467a5-f956-4e99-ad69-fcdc39f4966f",
   "metadata": {},
   "outputs": [
    {
     "data": {
      "image/png": "[encoded data removed]",
      "text/plain": [
       "<Figure size 432x288 with 1 Axes>"
      ]
     },
     "metadata": {
      "needs_background": "light"
     },
     "output_type": "display_data"
    },
    {
     "data": {
      "image/png": "[encoded data removed]",
      "text/plain": [
       "<Figure size 720x480 with 1 Axes>"
      ]
     },
     "metadata": {
      "needs_background": "light"
     },
     "output_type": "display_data"
    }
   ],
   "source": [
    "\n",
    "plt.ylabel(\"Ataques\")\n",
    "plt.figure(figsize=(9, 6), dpi=80)\n",
    "plt.xticks(rotation=70)\n",
    "plt.title(\"Top 8 países con más ataques de tiburones\")\n",
    "plt.bar(_df[\"Country\"], _df[\"count\"])\n",
    "plt.show()"
   ]
  },
  {
   "cell_type": "code",
   "execution_count": null,
   "id": "246ef40b-4fa7-48ed-9108-9db67b72925c",
   "metadata": {},
   "outputs": [],
   "source": []
  },
  {
   "cell_type": "code",
   "execution_count": null,
   "id": "837a59c1-b484-43c0-abe3-2604530f2956",
   "metadata": {},
   "outputs": [],
   "source": []
  },
  {
   "cell_type": "markdown",
   "id": "7988a8b1-4d9c-4309-a584-807870a84bd5",
   "metadata": {},
   "source": [
    "# Ataques por tipo"
   ]
  },
  {
   "cell_type": "code",
   "execution_count": 138,
   "id": "d5eb87f9-3fcd-466c-b578-1997da136673",
   "metadata": {},
   "outputs": [],
   "source": [
    "df_atck_by_type = df_c.groupby('Type')[\"Type\"].count().reset_index(name=\"count\")\n",
    "df_atck_by_type.sort_values(by=['count'], inplace=True)"
   ]
  },
  {
   "cell_type": "code",
   "execution_count": null,
   "id": "cc3a1913-0d54-498e-96a0-312d1d85bf06",
   "metadata": {},
   "outputs": [],
   "source": []
  },
  {
   "cell_type": "code",
   "execution_count": 140,
   "id": "5c401529-694e-4266-bb60-3c8a214768ed",
   "metadata": {},
   "outputs": [
    {
     "data": {
      "image/png": "[encoded data removed]",
      "text/plain": [
       "<Figure size 720x480 with 1 Axes>"
      ]
     },
     "metadata": {
      "needs_background": "light"
     },
     "output_type": "display_data"
    }
   ],
   "source": [
    "\n",
    "plt.figure(figsize=(9, 6), dpi=80)\n",
    "plt.bar(df_atck_by_type[\"Type\"], df_atck_by_type[\"count\"])\n",
    "plt.ylabel(\"Ataques\")\n",
    "plt.title(\"Cantidad de incidentes de cada tipo\")\n",
    "plt.show()"
   ]
  },
  {
   "cell_type": "code",
   "execution_count": null,
   "id": "787b79ac-273f-4095-bfd1-7b80d73ca435",
   "metadata": {},
   "outputs": [],
   "source": []
  },
  {
   "cell_type": "code",
   "execution_count": null,
   "id": "fe4ce96a-1dc9-447c-abd8-d6ab0161994a",
   "metadata": {},
   "outputs": [],
   "source": []
  },
  {
   "cell_type": "code",
   "execution_count": null,
   "id": "461a23ae-fe04-42dd-aee7-ae1657266861",
   "metadata": {},
   "outputs": [],
   "source": []
  },
  {
   "cell_type": "code",
   "execution_count": null,
   "id": "8b3f456b-b7bf-43a7-a6b1-2f305f1d74ee",
   "metadata": {},
   "outputs": [],
   "source": []
  },
  {
   "cell_type": "code",
   "execution_count": null,
   "id": "c1bd5b3d-6a56-4054-ac0e-dc4a23337eb5",
   "metadata": {},
   "outputs": [],
   "source": []
  }
 ],
 "metadata": {
  "kernelspec": {
   "display_name": "Python 3 (ipykernel)",
   "language": "python",
   "name": "python3"
  },
  "language_info": {
   "codemirror_mode": {
    "name": "ipython",
    "version": 3
   },
   "file_extension": ".py",
   "mimetype": "text/x-python",
   "name": "python",
   "nbconvert_exporter": "python",
   "pygments_lexer": "ipython3",
   "version": "3.8.2"
  }
 },
 "nbformat": 4,
 "nbformat_minor": 5
}
